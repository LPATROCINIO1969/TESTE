{
  "nbformat": 4,
  "nbformat_minor": 0,
  "metadata": {
    "colab": {
      "name": "pratica20.ipynb",
      "provenance": [],
      "collapsed_sections": [],
      "authorship_tag": "ABX9TyNWuaNxE1sda0mZOmQJcgFz",
      "include_colab_link": true
    },
    "kernelspec": {
      "name": "python3",
      "display_name": "Python 3"
    },
    "language_info": {
      "name": "python"
    }
  },
  "cells": [
    {
      "cell_type": "markdown",
      "metadata": {
        "id": "view-in-github",
        "colab_type": "text"
      },
      "source": [
        "<a href=\"https://colab.research.google.com/github/LPATROCINIO1969/TESTE/blob/master/pratica20.ipynb\" target=\"_parent\"><img src=\"https://colab.research.google.com/assets/colab-badge.svg\" alt=\"Open In Colab\"/></a>"
      ]
    },
    {
      "cell_type": "code",
      "metadata": {
        "id": "8tZ1HhHcFnxF"
      },
      "source": [
        "import numpy   #importa biblioteca para manipulação de matrizes\n",
        "from matplotlib import pyplot as plt  #importa biblioteca para criação de gráficos\n",
        "\n",
        "# inicio das importações de classes do keras (modelo de deep learning)\n",
        "from keras.datasets import mnist        #importa datasets mnist\n",
        "from keras.models import Sequential     #importa modelo sequencial de rede neural\n",
        "from keras.layers import Dense          #importa camadas totalmente conectadas\n",
        "from keras.layers import Dropout        #importa a estrutura de dropout \n",
        "from keras.utils import np_utils        #importa biblioteca de utilidade do keras"
      ],
      "execution_count": 1,
      "outputs": []
    },
    {
      "cell_type": "code",
      "metadata": {
        "colab": {
          "base_uri": "https://localhost:8080/",
          "height": 299
        },
        "id": "NvV4h2WxsZv5",
        "outputId": "5881fcfd-28c8-4318-d413-e3e41bd5f3f5"
      },
      "source": [
        "(X_train,y_train),(X_test, y_test)=mnist.load_data()  #importa o dataset mnist da biblioteca do Keras\n",
        "print(X_train.shape)        # imprime o tamanho do vetor\n",
        "first_image = X_train[100]  # obtém a imagem de treino no índice 100 do vetor\n",
        "# Realiza manipulação dos dados da imagem\n",
        "first_image = numpy.array(first_image,dtype = 'float')\n",
        "pixels = first_image.reshape((28,28))\n",
        "# exibe a imagem do vetor\n",
        "plt.imshow(pixels, cmap='gray')\n",
        "plt.show()\n",
        "\n",
        "print(y_train[100])   #imprime a classe da imagem de treino de indice 100"
      ],
      "execution_count": 3,
      "outputs": [
        {
          "output_type": "stream",
          "name": "stdout",
          "text": [
            "(60000, 28, 28)\n"
          ]
        },
        {
          "output_type": "display_data",
          "data": {
            "image/png": "[encoded data removed]",
            "text/plain": [
              "<Figure size 432x288 with 1 Axes>"
            ]
          },
          "metadata": {
            "needs_background": "light"
          }
        },
        {
          "output_type": "stream",
          "name": "stdout",
          "text": [
            "5\n"
          ]
        }
      ]
    }
  ]
}