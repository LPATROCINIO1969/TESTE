{
  "nbformat": 4,
  "nbformat_minor": 0,
  "metadata": {
    "colab": {
      "name": "Untitled0.ipynb",
      "provenance": [],
      "authorship_tag": "ABX9TyMTsOkiS6opwZcGUke5S0Ng",
      "include_colab_link": true
    },
    "kernelspec": {
      "name": "python3",
      "display_name": "Python 3"
    },
    "language_info": {
      "name": "python"
    }
  },
  "cells": [
    {
      "cell_type": "markdown",
      "metadata": {
        "id": "view-in-github",
        "colab_type": "text"
      },
      "source": [
        "<a href=\"https://colab.research.google.com/github/LPATROCINIO1969/TESTE/blob/master/pratica2().ipynb\" target=\"_parent\"><img src=\"https://colab.research.google.com/assets/colab-badge.svg\" alt=\"Open In Colab\"/></a>"
      ]
    },
    {
      "cell_type": "code",
      "metadata": {
        "id": "8tZ1HhHcFnxF"
      },
      "source": [
        "import numpy   #importa biblioteca para manipulação de matrizes\n",
        "from matplotlib import pyplot as plt  #importa biblioteca para criação de gráficos\n",
        "\n",
        "# inicio das importações de classes do keras (modelo de deep learning)\n",
        "from keras.datasets import mnist        #importa datasets mnist\n",
        "from keras.models import Sequential     #importa modelo sequencial de rede neural\n",
        "from keras.layers import Dense          #importa camadas totalmente conectadas\n",
        "from keras.layers import Dropout        #importa a estrutura de dropout \n",
        "from keras.utils import np_utils        #importa biblioteca de utilidade do keras"
      ],
      "execution_count": null,
      "outputs": []
    }
  ]
}